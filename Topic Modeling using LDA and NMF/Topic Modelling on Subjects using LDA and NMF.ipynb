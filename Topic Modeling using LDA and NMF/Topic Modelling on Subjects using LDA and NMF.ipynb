{
 "cells": [
  {
   "cell_type": "markdown",
   "metadata": {},
   "source": [
    "Topic modelling a dataset of Abstracts on different topics using Text pre-processing, LDA and NMF\n",
    "\n",
    "the dataset can be found in the below link.\n",
    "https://www.kaggle.com/code/mahmoudlimam/topic-modelling-bow-tf-idf-lda-nmf/notebook"
   ]
  },
  {
   "cell_type": "code",
   "execution_count": 2,
   "metadata": {},
   "outputs": [],
   "source": [
    "import pandas as pd\n",
    "import numpy as np"
   ]
  },
  {
   "cell_type": "code",
   "execution_count": 42,
   "metadata": {},
   "outputs": [],
   "source": [
    "df = pd.read_csv(r\"train.csv\\train.csv\")"
   ]
  },
  {
   "cell_type": "code",
   "execution_count": 43,
   "metadata": {},
   "outputs": [
    {
     "data": {
      "text/plain": [
       "20972"
      ]
     },
     "execution_count": 43,
     "metadata": {},
     "output_type": "execute_result"
    }
   ],
   "source": [
    "len(df)"
   ]
  },
  {
   "cell_type": "code",
   "execution_count": 44,
   "metadata": {
    "scrolled": true
   },
   "outputs": [],
   "source": [
    "# from nltk.stem import PorterStemmer\n",
    "# stemmer = PorterStemmer()\n",
    "# df[\"ABSTRACT\"] = df[\"ABSTRACT\"].apply(lambda x :[stemmer.stem(i) for i in x.split()])"
   ]
  },
  {
   "cell_type": "code",
   "execution_count": 46,
   "metadata": {},
   "outputs": [],
   "source": [
    "from nltk.corpus import stopwords\n",
    "stops = stopwords.words(\"english\")\n",
    "df[\"ABSTRACT\"] = df[\"ABSTRACT\"].apply(lambda x: [i for i in x.split() if i not in stops])\n"
   ]
  },
  {
   "cell_type": "code",
   "execution_count": 47,
   "metadata": {},
   "outputs": [],
   "source": [
    "df[\"ABSTRACT\"] = df[\"ABSTRACT\"].apply(lambda x: \" \".join(x))"
   ]
  },
  {
   "cell_type": "code",
   "execution_count": 49,
   "metadata": {
    "scrolled": false
   },
   "outputs": [],
   "source": [
    "from sklearn.feature_extraction.text import CountVectorizer \n",
    "cv = CountVectorizer(max_df=0.95, min_df=2, stop_words='english')\n",
    "dtm_abs = cv.fit_transform(df[\"ABSTRACT\"])"
   ]
  },
  {
   "cell_type": "code",
   "execution_count": 50,
   "metadata": {},
   "outputs": [],
   "source": [
    "from sklearn.decomposition import LatentDirichletAllocation\n",
    "LDA = LatentDirichletAllocation(n_components = 6, random_state = 42)\n",
    "abslda = LDA.fit(dtm_abs)"
   ]
  },
  {
   "cell_type": "code",
   "execution_count": 51,
   "metadata": {},
   "outputs": [
    {
     "name": "stdout",
     "output_type": "stream",
     "text": [
      "the topic number 0\n",
      "['sim', 'times', 'sources', 'simulations', 'dust', 'resolution', 'based', 'time', 'field', 'planets', 'range', 'disk', 'gravitational', 'distribution', 'energy', 'cluster', 'planet', 'light', 'solar', 'evolution', 'scale', 'flow', 'line', 'low', 'matter', 'density', 'model', 'models', 'ray', 'velocity', 'observed', 'results', 'emission', 'large', 'formation', 'rm', 'present', 'dark', 'galaxy', 'stellar', 'gas', 'high', 'stars', 'using', 'data', 'galaxies', 'observations', 'star', '10', 'mass']\n",
      "\n",
      "\n",
      "the topic number 1\n",
      "['simulations', 'demonstrate', 'used', 'electronic', 'theory', 'particle', 'observed', 'band', 'non', 'materials', 'large', 'dimensional', 'interactions', 'effects', 'experimental', 'coupling', 'interaction', 'range', 'optical', 'frequency', 'single', 'order', 'structure', 'based', 'different', 'density', 'study', 'wave', 'effect', 'systems', 'surface', 'electron', 'low', 'properties', 'dynamics', 'results', 'time', 'transition', 'using', 'states', 'high', 'state', 'temperature', 'model', 'quantum', 'energy', 'spin', 'magnetic', 'field', 'phase']\n",
      "\n",
      "\n",
      "the topic number 2\n",
      "['analysis', 'complex', 'prediction', 'accuracy', 'novel', 'feature', 'convolutional', 'large', 'graph', 'end', 'use', 'images', 'language', 'time', 'trained', 'structure', 'proposed', 'dataset', 'datasets', 'used', 'work', 'art', 'machine', 'new', 'method', 'tasks', 'image', 'performance', 'task', 'paper', 'results', 'state', 'approach', 'classification', 'features', 'information', 'methods', 'propose', 'different', 'using', 'training', 'based', 'models', 'data', 'deep', 'neural', 'model', 'networks', 'learning', 'network']\n",
      "\n",
      "\n",
      "the topic number 3\n",
      "['rate', 'given', 'sampling', 'efficient', 'information', 'sample', 'provide', 'state', 'numerical', 'order', 'convergence', 'set', 'framework', 'large', 'parameters', 'high', 'error', 'matrix', 'non', 'stochastic', 'random', 'performance', 'estimation', 'analysis', 'used', 'propose', 'function', 'new', 'learning', 'optimal', 'linear', 'optimization', 'distribution', 'number', 'models', 'problems', 'using', 'results', 'approach', 'paper', 'algorithms', 'proposed', 'methods', 'time', 'based', 'model', 'method', 'problem', 'algorithm', 'data']\n",
      "\n",
      "\n",
      "the topic number 4\n",
      "['using', 'associated', 'omega', 'certain', 'existence', 'obtain', 'known', 'properties', 'form', 'point', 'systems', 'consider', 'linear', 'algebra', 'particular', 'problem', 'conditions', 'spaces', 'terms', 'theorem', 'field', 'class', 'groups', 'boundary', 'new', 'general', 'dimensional', 'given', 'solutions', 'set', 'number', 'type', 'result', 'order', 'function', 'equations', 'functions', 'case', 'mathcal', 'results', 'equation', 'group', 'finite', 'non', 'study', 'space', 'paper', 'theory', 'prove', 'mathbb']\n",
      "\n",
      "\n",
      "the topic number 5\n",
      "['security', 'game', 'propose', 'world', 'agent', 'development', 'future', 'social', 'process', 'energy', 'code', 'network', 'communication', 'environment', 'provide', 'level', 'large', 'framework', 'applications', 'robot', 'work', 'new', 'power', 'study', 'human', 'high', 'research', 'present', 'software', 'user', 'proposed', 'different', 'users', 'real', 'analysis', 'use', 'design', 'approach', 'information', 'used', 'model', 'results', 'control', 'performance', 'time', 'systems', 'using', 'paper', 'based', 'data']\n",
      "\n",
      "\n"
     ]
    }
   ],
   "source": [
    "for i, words in enumerate(abslda.components_):\n",
    "    print(f\"the topic number {i}\")\n",
    "    print([cv.get_feature_names()[i] for i in words.argsort()[-50:]])\n",
    "    print(\"\\n\")"
   ]
  },
  {
   "cell_type": "code",
   "execution_count": 12,
   "metadata": {},
   "outputs": [
    {
     "data": {
      "text/plain": [
       "(6, 27580)"
      ]
     },
     "execution_count": 12,
     "metadata": {},
     "output_type": "execute_result"
    }
   ],
   "source": [
    "LDA.components_.shape"
   ]
  },
  {
   "cell_type": "code",
   "execution_count": 86,
   "metadata": {},
   "outputs": [],
   "source": [
    "topics = {0 : \"PLysics\",\n",
    "1 : \"Comp SC\",\n",
    "2 : \"Quant fin\",\n",
    "3 : \"Stat\",\n",
    "4 : \"Maths\",\n",
    "5 : \"Quant Bio\"}"
   ]
  },
  {
   "cell_type": "code",
   "execution_count": 70,
   "metadata": {},
   "outputs": [],
   "source": [
    "topic = LDA.transform(dtm_abs)"
   ]
  },
  {
   "cell_type": "code",
   "execution_count": 71,
   "metadata": {},
   "outputs": [
    {
     "data": {
      "text/html": [
       "<div>\n",
       "<style scoped>\n",
       "    .dataframe tbody tr th:only-of-type {\n",
       "        vertical-align: middle;\n",
       "    }\n",
       "\n",
       "    .dataframe tbody tr th {\n",
       "        vertical-align: top;\n",
       "    }\n",
       "\n",
       "    .dataframe thead th {\n",
       "        text-align: right;\n",
       "    }\n",
       "</style>\n",
       "<table border=\"1\" class=\"dataframe\">\n",
       "  <thead>\n",
       "    <tr style=\"text-align: right;\">\n",
       "      <th></th>\n",
       "      <th>ID</th>\n",
       "      <th>TITLE</th>\n",
       "      <th>ABSTRACT</th>\n",
       "      <th>Computer Science</th>\n",
       "      <th>Physics</th>\n",
       "      <th>Mathematics</th>\n",
       "      <th>Statistics</th>\n",
       "      <th>Quantitative Biology</th>\n",
       "      <th>Quantitative Finance</th>\n",
       "      <th>predict topic</th>\n",
       "    </tr>\n",
       "  </thead>\n",
       "  <tbody>\n",
       "    <tr>\n",
       "      <th>0</th>\n",
       "      <td>1</td>\n",
       "      <td>Reconstructing Subject-Specific Effect Maps</td>\n",
       "      <td>Predictive models allow subject-specific infer...</td>\n",
       "      <td>1</td>\n",
       "      <td>0</td>\n",
       "      <td>0</td>\n",
       "      <td>0</td>\n",
       "      <td>0</td>\n",
       "      <td>0</td>\n",
       "      <td>Stat</td>\n",
       "    </tr>\n",
       "    <tr>\n",
       "      <th>1</th>\n",
       "      <td>2</td>\n",
       "      <td>Rotation Invariance Neural Network</td>\n",
       "      <td>Rotation invariance translation invariance gre...</td>\n",
       "      <td>1</td>\n",
       "      <td>0</td>\n",
       "      <td>0</td>\n",
       "      <td>0</td>\n",
       "      <td>0</td>\n",
       "      <td>0</td>\n",
       "      <td>Quant fin</td>\n",
       "    </tr>\n",
       "    <tr>\n",
       "      <th>2</th>\n",
       "      <td>3</td>\n",
       "      <td>Spherical polyharmonics and Poisson kernels fo...</td>\n",
       "      <td>We introduce develop notion spherical polyharm...</td>\n",
       "      <td>0</td>\n",
       "      <td>0</td>\n",
       "      <td>1</td>\n",
       "      <td>0</td>\n",
       "      <td>0</td>\n",
       "      <td>0</td>\n",
       "      <td>Maths</td>\n",
       "    </tr>\n",
       "    <tr>\n",
       "      <th>3</th>\n",
       "      <td>4</td>\n",
       "      <td>A finite element approximation for the stochas...</td>\n",
       "      <td>The stochastic Landau--Lifshitz--Gilbert (LLG)...</td>\n",
       "      <td>0</td>\n",
       "      <td>0</td>\n",
       "      <td>1</td>\n",
       "      <td>0</td>\n",
       "      <td>0</td>\n",
       "      <td>0</td>\n",
       "      <td>Maths</td>\n",
       "    </tr>\n",
       "    <tr>\n",
       "      <th>4</th>\n",
       "      <td>5</td>\n",
       "      <td>Comparative study of Discrete Wavelet Transfor...</td>\n",
       "      <td>Fourier-transform infra-red (FTIR) spectra sam...</td>\n",
       "      <td>1</td>\n",
       "      <td>0</td>\n",
       "      <td>0</td>\n",
       "      <td>1</td>\n",
       "      <td>0</td>\n",
       "      <td>0</td>\n",
       "      <td>Stat</td>\n",
       "    </tr>\n",
       "  </tbody>\n",
       "</table>\n",
       "</div>"
      ],
      "text/plain": [
       "   ID                                              TITLE  \\\n",
       "0   1        Reconstructing Subject-Specific Effect Maps   \n",
       "1   2                 Rotation Invariance Neural Network   \n",
       "2   3  Spherical polyharmonics and Poisson kernels fo...   \n",
       "3   4  A finite element approximation for the stochas...   \n",
       "4   5  Comparative study of Discrete Wavelet Transfor...   \n",
       "\n",
       "                                            ABSTRACT  Computer Science  \\\n",
       "0  Predictive models allow subject-specific infer...                 1   \n",
       "1  Rotation invariance translation invariance gre...                 1   \n",
       "2  We introduce develop notion spherical polyharm...                 0   \n",
       "3  The stochastic Landau--Lifshitz--Gilbert (LLG)...                 0   \n",
       "4  Fourier-transform infra-red (FTIR) spectra sam...                 1   \n",
       "\n",
       "   Physics  Mathematics  Statistics  Quantitative Biology  \\\n",
       "0        0            0           0                     0   \n",
       "1        0            0           0                     0   \n",
       "2        0            1           0                     0   \n",
       "3        0            1           0                     0   \n",
       "4        0            0           1                     0   \n",
       "\n",
       "   Quantitative Finance predict topic  \n",
       "0                     0          Stat  \n",
       "1                     0     Quant fin  \n",
       "2                     0         Maths  \n",
       "3                     0         Maths  \n",
       "4                     0          Stat  "
      ]
     },
     "execution_count": 71,
     "metadata": {},
     "output_type": "execute_result"
    }
   ],
   "source": [
    "topic = topic.argmax(axis = 1)\n",
    "df[\"predict topic\"] = topic\n",
    "df[\"predict topic\"] = df[\"predict topic\"].map(topics)\n",
    "df.head()"
   ]
  },
  {
   "cell_type": "markdown",
   "metadata": {},
   "source": [
    "Topic modeing using TFIDF and LDA"
   ]
  },
  {
   "cell_type": "code",
   "execution_count": 72,
   "metadata": {},
   "outputs": [],
   "source": [
    "from sklearn.feature_extraction.text import TfidfVectorizer\n",
    "tfid = TfidfVectorizer(max_df=0.95, min_df=2, stop_words='english')\n",
    "idf_dtm = tfid.fit_transform(df[\"ABSTRACT\"])"
   ]
  },
  {
   "cell_type": "code",
   "execution_count": 74,
   "metadata": {},
   "outputs": [],
   "source": [
    "from sklearn.decomposition import NMF\n",
    "nmf = NMF(n_components = 6, random_state = 42)\n",
    "nmfdm = nmf.fit(idf_dtm)"
   ]
  },
  {
   "cell_type": "code",
   "execution_count": 77,
   "metadata": {},
   "outputs": [
    {
     "name": "stdout",
     "output_type": "stream",
     "text": [
      "topic 0\n",
      "['bound', 'rank', 'distributed', 'design', 'descent', 'state', 'estimation', 'computational', 'cost', 'bounds', 'objective', 'new', 'order', 'solving', 'solve', 'results', 'propose', 'learning', 'error', 'functions', 'efficient', 'non', 'performance', 'complexity', 'number', 'approach', 'approximation', 'rate', 'paper', 'based', 'matrix', 'numerical', 'function', 'methods', 'solution', 'linear', 'gradient', 'control', 'proposed', 'time', 'convergence', 'convex', 'stochastic', 'method', 'optimal', 'problems', 'algorithms', 'optimization', 'problem', 'algorithm']\n",
      "\n",
      "\n",
      "topic 1\n",
      "['conjecture', 'lambda', 'differential', 'curvature', 'infty', 'certain', 'results', 'manifold', 'positive', 'conditions', 'proof', 'bounded', 'operators', 'existence', 'order', 'metric', 'alpha', 'compact', 'dimensional', 'given', 'dimension', 'operator', 'algebras', 'paper', 'non', 'set', 'class', 'study', 'let', 'case', 'omega', 'function', 'boundary', 'result', 'equations', 'solutions', 'algebra', 'theory', 'theorem', 'type', 'equation', 'spaces', 'functions', 'groups', 'finite', 'space', 'prove', 'group', 'mathcal', 'mathbb']\n",
      "\n",
      "\n",
      "topic 2\n",
      "['formation', 'frequency', 'effects', 'critical', 'model', 'light', 'results', 'symmetry', 'particle', 'matter', '10', 'study', 'thermal', 'structure', 'interactions', 'gas', 'electronic', 'band', 'using', 'topological', 'theory', 'observed', 'lattice', 'order', 'interaction', 'time', 'properties', 'range', 'coupling', 'dynamics', 'effect', 'optical', 'wave', 'surface', 'low', 'high', 'mass', 'electron', 'systems', 'density', 'state', 'transition', 'states', 'temperature', 'energy', 'phase', 'field', 'quantum', 'magnetic', 'spin']\n",
      "\n",
      "\n",
      "topic 3\n",
      "['model', 'representation', 'human', 'work', 'recurrent', 'reinforcement', 'method', 'object', 'speech', 'different', 'layer', 'approach', 'supervised', 'visual', 'architectures', 'input', 'representations', 'using', 'recognition', 'accuracy', 'dataset', 'datasets', 'cnn', 'feature', 'architecture', 'learn', 'propose', 'models', 'based', 'methods', 'features', 'state', 'art', 'end', 'adversarial', 'trained', 'images', 'convolutional', 'machine', 'performance', 'task', 'image', 'classification', 'tasks', 'training', 'networks', 'deep', 'neural', 'network', 'learning']\n",
      "\n",
      "\n",
      "topic 4\n",
      "['features', 'selection', 'set', 'approaches', 'random', 'estimator', 'processes', 'variables', 'modeling', 'prediction', 'performance', 'high', 'propose', 'series', 'new', 'test', 'sample', 'large', 'gaussian', 'latent', 'results', 'clustering', 'likelihood', 'framework', 'parameters', 'different', 'use', 'distributions', 'regression', 'paper', 'statistical', 'estimation', 'real', 'process', 'bayesian', 'time', 'used', 'using', 'methods', 'proposed', 'inference', 'information', 'method', 'approach', 'distribution', 'based', 'analysis', 'models', 'model', 'data']\n",
      "\n",
      "\n",
      "topic 5\n",
      "['subgraphs', 'complexity', 'matrix', 'matching', 'path', 'log', 'link', 'topology', 'connectivity', 'known', 'bipartite', 'world', 'undirected', 'laplacian', 'size', 'properties', 'study', 'spectral', 'given', 'polynomial', 'tree', 'real', 'clustering', 'subgraph', 'set', 'information', 'communities', 'embedding', 'algorithms', 'connected', 'directed', 'community', 'problem', 'algorithm', 'social', 'time', 'degree', 'structure', 'number', 'vertex', 'edge', 'node', 'random', 'vertices', 'edges', 'networks', 'nodes', 'network', 'graphs', 'graph']\n",
      "\n",
      "\n"
     ]
    }
   ],
   "source": [
    "for i, words in enumerate(nmfdm.components_):\n",
    "    print(f\"topic {i}\")\n",
    "    print([tfid.get_feature_names()[word] for word in words.argsort()[-50:]])\n",
    "    print(\"\\n\")"
   ]
  },
  {
   "cell_type": "code",
   "execution_count": null,
   "metadata": {},
   "outputs": [],
   "source": []
  },
  {
   "cell_type": "code",
   "execution_count": 107,
   "metadata": {},
   "outputs": [],
   "source": [
    "lda_topics = nmf.transform(idf_dtm)"
   ]
  },
  {
   "cell_type": "code",
   "execution_count": 108,
   "metadata": {},
   "outputs": [],
   "source": [
    "topic_lda = lda_topics.argmax(axis = 1)"
   ]
  },
  {
   "cell_type": "code",
   "execution_count": 109,
   "metadata": {},
   "outputs": [],
   "source": [
    "df[\"lda_topics\"] = topic_lda"
   ]
  },
  {
   "cell_type": "code",
   "execution_count": 110,
   "metadata": {},
   "outputs": [],
   "source": [
    "topics_nmf = {0 : \"Comp SC\",\n",
    "1 : \"Maths\",\n",
    "2 : \"PLysics\",\n",
    "3 : \"Quant Bio\",\n",
    "4 : \"Quant fin\",\n",
    "5 : \"Stat\"}"
   ]
  },
  {
   "cell_type": "code",
   "execution_count": 111,
   "metadata": {},
   "outputs": [],
   "source": [
    "df[\"lda_topics\"] = df[\"lda_topics\"].map(topics_nmf)"
   ]
  },
  {
   "cell_type": "code",
   "execution_count": 112,
   "metadata": {},
   "outputs": [
    {
     "data": {
      "text/html": [
       "<div>\n",
       "<style scoped>\n",
       "    .dataframe tbody tr th:only-of-type {\n",
       "        vertical-align: middle;\n",
       "    }\n",
       "\n",
       "    .dataframe tbody tr th {\n",
       "        vertical-align: top;\n",
       "    }\n",
       "\n",
       "    .dataframe thead th {\n",
       "        text-align: right;\n",
       "    }\n",
       "</style>\n",
       "<table border=\"1\" class=\"dataframe\">\n",
       "  <thead>\n",
       "    <tr style=\"text-align: right;\">\n",
       "      <th></th>\n",
       "      <th>ID</th>\n",
       "      <th>TITLE</th>\n",
       "      <th>ABSTRACT</th>\n",
       "      <th>Computer Science</th>\n",
       "      <th>Physics</th>\n",
       "      <th>Mathematics</th>\n",
       "      <th>Statistics</th>\n",
       "      <th>Quantitative Biology</th>\n",
       "      <th>Quantitative Finance</th>\n",
       "      <th>predict topic</th>\n",
       "      <th>lda_topics</th>\n",
       "    </tr>\n",
       "  </thead>\n",
       "  <tbody>\n",
       "    <tr>\n",
       "      <th>0</th>\n",
       "      <td>1</td>\n",
       "      <td>Reconstructing Subject-Specific Effect Maps</td>\n",
       "      <td>Predictive models allow subject-specific infer...</td>\n",
       "      <td>1</td>\n",
       "      <td>0</td>\n",
       "      <td>0</td>\n",
       "      <td>0</td>\n",
       "      <td>0</td>\n",
       "      <td>0</td>\n",
       "      <td>Stat</td>\n",
       "      <td>Quant fin</td>\n",
       "    </tr>\n",
       "    <tr>\n",
       "      <th>1</th>\n",
       "      <td>2</td>\n",
       "      <td>Rotation Invariance Neural Network</td>\n",
       "      <td>Rotation invariance translation invariance gre...</td>\n",
       "      <td>1</td>\n",
       "      <td>0</td>\n",
       "      <td>0</td>\n",
       "      <td>0</td>\n",
       "      <td>0</td>\n",
       "      <td>0</td>\n",
       "      <td>Quant fin</td>\n",
       "      <td>Quant Bio</td>\n",
       "    </tr>\n",
       "    <tr>\n",
       "      <th>2</th>\n",
       "      <td>3</td>\n",
       "      <td>Spherical polyharmonics and Poisson kernels fo...</td>\n",
       "      <td>We introduce develop notion spherical polyharm...</td>\n",
       "      <td>0</td>\n",
       "      <td>0</td>\n",
       "      <td>1</td>\n",
       "      <td>0</td>\n",
       "      <td>0</td>\n",
       "      <td>0</td>\n",
       "      <td>Maths</td>\n",
       "      <td>Maths</td>\n",
       "    </tr>\n",
       "    <tr>\n",
       "      <th>3</th>\n",
       "      <td>4</td>\n",
       "      <td>A finite element approximation for the stochas...</td>\n",
       "      <td>The stochastic Landau--Lifshitz--Gilbert (LLG)...</td>\n",
       "      <td>0</td>\n",
       "      <td>0</td>\n",
       "      <td>1</td>\n",
       "      <td>0</td>\n",
       "      <td>0</td>\n",
       "      <td>0</td>\n",
       "      <td>Maths</td>\n",
       "      <td>Maths</td>\n",
       "    </tr>\n",
       "    <tr>\n",
       "      <th>4</th>\n",
       "      <td>5</td>\n",
       "      <td>Comparative study of Discrete Wavelet Transfor...</td>\n",
       "      <td>Fourier-transform infra-red (FTIR) spectra sam...</td>\n",
       "      <td>1</td>\n",
       "      <td>0</td>\n",
       "      <td>0</td>\n",
       "      <td>1</td>\n",
       "      <td>0</td>\n",
       "      <td>0</td>\n",
       "      <td>Stat</td>\n",
       "      <td>Quant fin</td>\n",
       "    </tr>\n",
       "  </tbody>\n",
       "</table>\n",
       "</div>"
      ],
      "text/plain": [
       "   ID                                              TITLE  \\\n",
       "0   1        Reconstructing Subject-Specific Effect Maps   \n",
       "1   2                 Rotation Invariance Neural Network   \n",
       "2   3  Spherical polyharmonics and Poisson kernels fo...   \n",
       "3   4  A finite element approximation for the stochas...   \n",
       "4   5  Comparative study of Discrete Wavelet Transfor...   \n",
       "\n",
       "                                            ABSTRACT  Computer Science  \\\n",
       "0  Predictive models allow subject-specific infer...                 1   \n",
       "1  Rotation invariance translation invariance gre...                 1   \n",
       "2  We introduce develop notion spherical polyharm...                 0   \n",
       "3  The stochastic Landau--Lifshitz--Gilbert (LLG)...                 0   \n",
       "4  Fourier-transform infra-red (FTIR) spectra sam...                 1   \n",
       "\n",
       "   Physics  Mathematics  Statistics  Quantitative Biology  \\\n",
       "0        0            0           0                     0   \n",
       "1        0            0           0                     0   \n",
       "2        0            1           0                     0   \n",
       "3        0            1           0                     0   \n",
       "4        0            0           1                     0   \n",
       "\n",
       "   Quantitative Finance predict topic lda_topics  \n",
       "0                     0          Stat  Quant fin  \n",
       "1                     0     Quant fin  Quant Bio  \n",
       "2                     0         Maths      Maths  \n",
       "3                     0         Maths      Maths  \n",
       "4                     0          Stat  Quant fin  "
      ]
     },
     "execution_count": 112,
     "metadata": {},
     "output_type": "execute_result"
    }
   ],
   "source": [
    "df.head()"
   ]
  },
  {
   "cell_type": "code",
   "execution_count": 93,
   "metadata": {},
   "outputs": [],
   "source": [
    "y = df.drop([\"ID\",\"TITLE\",\"ABSTRACT\",\"predict topic\",\"lda_topics\"], axis=1)"
   ]
  },
  {
   "cell_type": "code",
   "execution_count": 96,
   "metadata": {},
   "outputs": [],
   "source": [
    "realtopic = y.idxmax(axis =1)"
   ]
  },
  {
   "cell_type": "code",
   "execution_count": 100,
   "metadata": {},
   "outputs": [
    {
     "data": {
      "text/plain": [
       "<Figure size 2000x800 with 4 Axes>"
      ]
     },
     "metadata": {},
     "output_type": "display_data"
    }
   ],
   "source": []
  },
  {
   "cell_type": "code",
   "execution_count": 115,
   "metadata": {},
   "outputs": [
    {
     "name": "stdout",
     "output_type": "stream",
     "text": [
      "0.0\n"
     ]
    }
   ],
   "source": [
    "from sklearn.metrics import accuracy_score\n",
    "print(accuracy_score(realtopic, df[\"predict topic\"]))"
   ]
  },
  {
   "cell_type": "code",
   "execution_count": 116,
   "metadata": {},
   "outputs": [
    {
     "name": "stdout",
     "output_type": "stream",
     "text": [
      "0.0\n"
     ]
    }
   ],
   "source": [
    "print(accuracy_score(realtopic, df[\"lda_topics\"]))"
   ]
  },
  {
   "cell_type": "code",
   "execution_count": 117,
   "metadata": {},
   "outputs": [
    {
     "name": "stdout",
     "output_type": "stream",
     "text": [
      "0.3242895288956704\n"
     ]
    }
   ],
   "source": [
    "print(accuracy_score(df[\"predict topic\"],df[\"lda_topics\"]))"
   ]
  },
  {
   "cell_type": "markdown",
   "metadata": {},
   "source": [
    "Topic medilling by removing some parameters using NMF, countvectorization and TFIDF"
   ]
  },
  {
   "cell_type": "code",
   "execution_count": 119,
   "metadata": {},
   "outputs": [],
   "source": [
    "df_new = pd.read_csv(r\"train.csv\\train.csv\")"
   ]
  },
  {
   "cell_type": "code",
   "execution_count": 130,
   "metadata": {},
   "outputs": [
    {
     "data": {
      "text/html": [
       "<div>\n",
       "<style scoped>\n",
       "    .dataframe tbody tr th:only-of-type {\n",
       "        vertical-align: middle;\n",
       "    }\n",
       "\n",
       "    .dataframe tbody tr th {\n",
       "        vertical-align: top;\n",
       "    }\n",
       "\n",
       "    .dataframe thead th {\n",
       "        text-align: right;\n",
       "    }\n",
       "</style>\n",
       "<table border=\"1\" class=\"dataframe\">\n",
       "  <thead>\n",
       "    <tr style=\"text-align: right;\">\n",
       "      <th></th>\n",
       "      <th>ID</th>\n",
       "      <th>TITLE</th>\n",
       "      <th>ABSTRACT</th>\n",
       "      <th>Computer Science</th>\n",
       "      <th>Physics</th>\n",
       "      <th>Mathematics</th>\n",
       "      <th>Statistics</th>\n",
       "      <th>Quantitative Biology</th>\n",
       "      <th>Quantitative Finance</th>\n",
       "    </tr>\n",
       "  </thead>\n",
       "  <tbody>\n",
       "    <tr>\n",
       "      <th>0</th>\n",
       "      <td>1</td>\n",
       "      <td>Reconstructing Subject-Specific Effect Maps</td>\n",
       "      <td>Predictive models allow subject-specific inf...</td>\n",
       "      <td>1</td>\n",
       "      <td>0</td>\n",
       "      <td>0</td>\n",
       "      <td>0</td>\n",
       "      <td>0</td>\n",
       "      <td>0</td>\n",
       "    </tr>\n",
       "    <tr>\n",
       "      <th>1</th>\n",
       "      <td>2</td>\n",
       "      <td>Rotation Invariance Neural Network</td>\n",
       "      <td>Rotation invariance and translation invarian...</td>\n",
       "      <td>1</td>\n",
       "      <td>0</td>\n",
       "      <td>0</td>\n",
       "      <td>0</td>\n",
       "      <td>0</td>\n",
       "      <td>0</td>\n",
       "    </tr>\n",
       "    <tr>\n",
       "      <th>2</th>\n",
       "      <td>3</td>\n",
       "      <td>Spherical polyharmonics and Poisson kernels fo...</td>\n",
       "      <td>We introduce and develop the notion of spher...</td>\n",
       "      <td>0</td>\n",
       "      <td>0</td>\n",
       "      <td>1</td>\n",
       "      <td>0</td>\n",
       "      <td>0</td>\n",
       "      <td>0</td>\n",
       "    </tr>\n",
       "    <tr>\n",
       "      <th>3</th>\n",
       "      <td>4</td>\n",
       "      <td>A finite element approximation for the stochas...</td>\n",
       "      <td>The stochastic Landau--Lifshitz--Gilbert (LL...</td>\n",
       "      <td>0</td>\n",
       "      <td>0</td>\n",
       "      <td>1</td>\n",
       "      <td>0</td>\n",
       "      <td>0</td>\n",
       "      <td>0</td>\n",
       "    </tr>\n",
       "    <tr>\n",
       "      <th>4</th>\n",
       "      <td>5</td>\n",
       "      <td>Comparative study of Discrete Wavelet Transfor...</td>\n",
       "      <td>Fourier-transform infra-red (FTIR) spectra o...</td>\n",
       "      <td>1</td>\n",
       "      <td>0</td>\n",
       "      <td>0</td>\n",
       "      <td>1</td>\n",
       "      <td>0</td>\n",
       "      <td>0</td>\n",
       "    </tr>\n",
       "  </tbody>\n",
       "</table>\n",
       "</div>"
      ],
      "text/plain": [
       "   ID                                              TITLE  \\\n",
       "0   1        Reconstructing Subject-Specific Effect Maps   \n",
       "1   2                 Rotation Invariance Neural Network   \n",
       "2   3  Spherical polyharmonics and Poisson kernels fo...   \n",
       "3   4  A finite element approximation for the stochas...   \n",
       "4   5  Comparative study of Discrete Wavelet Transfor...   \n",
       "\n",
       "                                            ABSTRACT  Computer Science  \\\n",
       "0    Predictive models allow subject-specific inf...                 1   \n",
       "1    Rotation invariance and translation invarian...                 1   \n",
       "2    We introduce and develop the notion of spher...                 0   \n",
       "3    The stochastic Landau--Lifshitz--Gilbert (LL...                 0   \n",
       "4    Fourier-transform infra-red (FTIR) spectra o...                 1   \n",
       "\n",
       "   Physics  Mathematics  Statistics  Quantitative Biology  \\\n",
       "0        0            0           0                     0   \n",
       "1        0            0           0                     0   \n",
       "2        0            1           0                     0   \n",
       "3        0            1           0                     0   \n",
       "4        0            0           1                     0   \n",
       "\n",
       "   Quantitative Finance  \n",
       "0                     0  \n",
       "1                     0  \n",
       "2                     0  \n",
       "3                     0  \n",
       "4                     0  "
      ]
     },
     "execution_count": 130,
     "metadata": {},
     "output_type": "execute_result"
    }
   ],
   "source": [
    "df_new.head()"
   ]
  },
  {
   "cell_type": "code",
   "execution_count": 166,
   "metadata": {},
   "outputs": [
    {
     "data": {
      "text/plain": [
       "5206"
      ]
     },
     "execution_count": 166,
     "metadata": {},
     "output_type": "execute_result"
    }
   ],
   "source": [
    "len(df[df[\"Statistics\"] == 1])"
   ]
  },
  {
   "cell_type": "code",
   "execution_count": 143,
   "metadata": {},
   "outputs": [],
   "source": [
    "y = df_new.drop([\"Quantitative Biology\",\"Quantitative Finance\", \"ID\", \"TITLE\",\"ABSTRACT\"], axis = 1)"
   ]
  },
  {
   "cell_type": "code",
   "execution_count": 144,
   "metadata": {},
   "outputs": [
    {
     "data": {
      "text/html": [
       "<div>\n",
       "<style scoped>\n",
       "    .dataframe tbody tr th:only-of-type {\n",
       "        vertical-align: middle;\n",
       "    }\n",
       "\n",
       "    .dataframe tbody tr th {\n",
       "        vertical-align: top;\n",
       "    }\n",
       "\n",
       "    .dataframe thead th {\n",
       "        text-align: right;\n",
       "    }\n",
       "</style>\n",
       "<table border=\"1\" class=\"dataframe\">\n",
       "  <thead>\n",
       "    <tr style=\"text-align: right;\">\n",
       "      <th></th>\n",
       "      <th>Computer Science</th>\n",
       "      <th>Physics</th>\n",
       "      <th>Mathematics</th>\n",
       "      <th>Statistics</th>\n",
       "    </tr>\n",
       "  </thead>\n",
       "  <tbody>\n",
       "    <tr>\n",
       "      <th>0</th>\n",
       "      <td>1</td>\n",
       "      <td>0</td>\n",
       "      <td>0</td>\n",
       "      <td>0</td>\n",
       "    </tr>\n",
       "    <tr>\n",
       "      <th>1</th>\n",
       "      <td>1</td>\n",
       "      <td>0</td>\n",
       "      <td>0</td>\n",
       "      <td>0</td>\n",
       "    </tr>\n",
       "    <tr>\n",
       "      <th>2</th>\n",
       "      <td>0</td>\n",
       "      <td>0</td>\n",
       "      <td>1</td>\n",
       "      <td>0</td>\n",
       "    </tr>\n",
       "    <tr>\n",
       "      <th>3</th>\n",
       "      <td>0</td>\n",
       "      <td>0</td>\n",
       "      <td>1</td>\n",
       "      <td>0</td>\n",
       "    </tr>\n",
       "    <tr>\n",
       "      <th>4</th>\n",
       "      <td>1</td>\n",
       "      <td>0</td>\n",
       "      <td>0</td>\n",
       "      <td>1</td>\n",
       "    </tr>\n",
       "  </tbody>\n",
       "</table>\n",
       "</div>"
      ],
      "text/plain": [
       "   Computer Science  Physics  Mathematics  Statistics\n",
       "0                 1        0            0           0\n",
       "1                 1        0            0           0\n",
       "2                 0        0            1           0\n",
       "3                 0        0            1           0\n",
       "4                 1        0            0           1"
      ]
     },
     "execution_count": 144,
     "metadata": {},
     "output_type": "execute_result"
    }
   ],
   "source": [
    "y.head()"
   ]
  },
  {
   "cell_type": "code",
   "execution_count": 149,
   "metadata": {},
   "outputs": [
    {
     "data": {
      "text/plain": [
       "<matplotlib.axes._subplots.AxesSubplot at 0x1ea78a79518>"
      ]
     },
     "execution_count": 149,
     "metadata": {},
     "output_type": "execute_result"
    },
    {
     "data": {
      "image/png": "[encoded data removed]",
      "text/plain": [
       "<Figure size 720x360 with 2 Axes>"
      ]
     },
     "metadata": {
      "needs_background": "light"
     },
     "output_type": "display_data"
    }
   ],
   "source": [
    "import pandas as pd \n",
    "import seaborn as sns\n",
    "import matplotlib.pyplot as plt\n",
    "plt.figure(figsize=(10,5))\n",
    "sns.heatmap(y.corr(), vmin=0, vmax=1, annot=True)"
   ]
  },
  {
   "cell_type": "code",
   "execution_count": 175,
   "metadata": {},
   "outputs": [],
   "source": [
    "for i in range(y.shape[0]):\n",
    "    if y.loc[i, \"Statistics\"]==1:\n",
    "        y.loc[i, \"Mathematics\"]=1\n",
    "y.drop([ \"Statistics\"], axis=1, inplace=True)"
   ]
  },
  {
   "cell_type": "code",
   "execution_count": 167,
   "metadata": {},
   "outputs": [],
   "source": [
    "from nltk.corpus import stopwords\n",
    "stops = stopwords.words(\"english\")\n",
    "df_new[\"ABSTRACT\"] = df_new[\"ABSTRACT\"].apply(lambda x: [i for i in x.split() if i not in stops])"
   ]
  },
  {
   "cell_type": "code",
   "execution_count": 171,
   "metadata": {},
   "outputs": [],
   "source": [
    "df_new[\"ABSTRACT\"] = df_new[\"ABSTRACT\"].apply(lambda x: \" \".join(x))"
   ]
  },
  {
   "cell_type": "code",
   "execution_count": 172,
   "metadata": {},
   "outputs": [],
   "source": [
    "from sklearn.feature_extraction.text import CountVectorizer\n",
    "count = CountVectorizer(max_df=0.95,\n",
    "    min_df=2,stop_words=\"english\")\n",
    "dtm = count.fit_transform(df_new[\"ABSTRACT\"])"
   ]
  },
  {
   "cell_type": "code",
   "execution_count": 176,
   "metadata": {},
   "outputs": [],
   "source": [
    "from sklearn.decomposition import LatentDirichletAllocation\n",
    "lda = LatentDirichletAllocation(n_components=3, random_state = 42)\n",
    "ldamt = lda.fit(dtm)"
   ]
  },
  {
   "cell_type": "code",
   "execution_count": 177,
   "metadata": {},
   "outputs": [
    {
     "name": "stdout",
     "output_type": "stream",
     "text": [
      "words for topic 0\n",
      "['convex', 'graphs', 'particular', 'point', 'method', 'solution', 'algorithm', 'bound', 'field', 'conditions', 'matrix', 'consider', 'properties', 'distribution', 'model', 'present', 'graph', 'class', 'solutions', 'known', 'type', 'general', 'mass', 'dimensional', 'mathcal', 'equations', 'equation', 'group', 'result', 'given', 'using', 'new', 'set', 'theory', 'linear', 'order', 'functions', 'finite', 'case', 'number', 'mathbb', 'time', 'study', 'function', 'non', 'prove', 'space', 'paper', 'results', 'problem']\n",
      "\n",
      "\n",
      "words for topic 1\n",
      "['applications', 'image', 'set', 'existing', 'experiments', 'task', 'machine', 'features', 'accuracy', 'problems', 'optimization', 'novel', 'present', 'demonstrate', 'number', 'work', 'high', 'large', 'real', 'framework', 'use', 'training', 'state', 'different', 'analysis', 'deep', 'algorithms', 'new', 'information', 'neural', 'used', 'propose', 'problem', 'results', 'networks', 'performance', 'time', 'algorithm', 'methods', 'models', 'approach', 'proposed', 'paper', 'using', 'network', 'method', 'learning', 'based', 'model', 'data']\n",
      "\n",
      "\n",
      "words for topic 2\n",
      "['experimental', 'potential', 'critical', 'work', 'behavior', 'coupling', 'optical', 'used', 'wave', 'single', 'effects', 'observed', 'analysis', 'new', 'social', 'range', 'electron', 'density', 'present', 'interaction', 'surface', 'non', 'interactions', 'low', 'large', 'effect', 'order', 'structure', 'based', 'theory', 'transition', 'properties', 'high', 'states', 'dynamics', 'using', 'time', 'different', 'temperature', 'results', 'study', 'state', 'spin', 'quantum', 'magnetic', 'phase', 'systems', 'field', 'energy', 'model']\n",
      "\n",
      "\n"
     ]
    }
   ],
   "source": [
    "for i, words in enumerate(ldamt.components_):\n",
    "    print(f\"words for topic {i}\")\n",
    "    print([count.get_feature_names()[word] for word in words.argsort()[-50:]])\n",
    "    print(\"\\n\")"
   ]
  },
  {
   "cell_type": "code",
   "execution_count": 178,
   "metadata": {},
   "outputs": [],
   "source": [
    "topics = {0:\"Maths\",\n",
    "1:\"Comp Sc\",\n",
    "2:\"Physics\"}"
   ]
  },
  {
   "cell_type": "code",
   "execution_count": 180,
   "metadata": {},
   "outputs": [],
   "source": [
    "topics_count = lda.transform(dtm)"
   ]
  },
  {
   "cell_type": "code",
   "execution_count": 181,
   "metadata": {},
   "outputs": [],
   "source": [
    "topics_count = topics_count.argmax(axis = 1)"
   ]
  },
  {
   "cell_type": "code",
   "execution_count": 183,
   "metadata": {},
   "outputs": [],
   "source": [
    "df_new[\"count_topics\"] = topics_count"
   ]
  },
  {
   "cell_type": "code",
   "execution_count": 184,
   "metadata": {},
   "outputs": [],
   "source": [
    "df_new[\"count_topics\"] = df_new[\"count_topics\"].map(topics)"
   ]
  },
  {
   "cell_type": "code",
   "execution_count": 185,
   "metadata": {},
   "outputs": [
    {
     "data": {
      "text/html": [
       "<div>\n",
       "<style scoped>\n",
       "    .dataframe tbody tr th:only-of-type {\n",
       "        vertical-align: middle;\n",
       "    }\n",
       "\n",
       "    .dataframe tbody tr th {\n",
       "        vertical-align: top;\n",
       "    }\n",
       "\n",
       "    .dataframe thead th {\n",
       "        text-align: right;\n",
       "    }\n",
       "</style>\n",
       "<table border=\"1\" class=\"dataframe\">\n",
       "  <thead>\n",
       "    <tr style=\"text-align: right;\">\n",
       "      <th></th>\n",
       "      <th>ID</th>\n",
       "      <th>TITLE</th>\n",
       "      <th>ABSTRACT</th>\n",
       "      <th>Computer Science</th>\n",
       "      <th>Physics</th>\n",
       "      <th>Mathematics</th>\n",
       "      <th>Statistics</th>\n",
       "      <th>Quantitative Biology</th>\n",
       "      <th>Quantitative Finance</th>\n",
       "      <th>count_topics</th>\n",
       "    </tr>\n",
       "  </thead>\n",
       "  <tbody>\n",
       "    <tr>\n",
       "      <th>0</th>\n",
       "      <td>1</td>\n",
       "      <td>Reconstructing Subject-Specific Effect Maps</td>\n",
       "      <td>Predictive models allow subject-specific infer...</td>\n",
       "      <td>1</td>\n",
       "      <td>0</td>\n",
       "      <td>0</td>\n",
       "      <td>0</td>\n",
       "      <td>0</td>\n",
       "      <td>0</td>\n",
       "      <td>Comp Sc</td>\n",
       "    </tr>\n",
       "    <tr>\n",
       "      <th>1</th>\n",
       "      <td>2</td>\n",
       "      <td>Rotation Invariance Neural Network</td>\n",
       "      <td>Rotation invariance translation invariance gre...</td>\n",
       "      <td>1</td>\n",
       "      <td>0</td>\n",
       "      <td>0</td>\n",
       "      <td>0</td>\n",
       "      <td>0</td>\n",
       "      <td>0</td>\n",
       "      <td>Comp Sc</td>\n",
       "    </tr>\n",
       "    <tr>\n",
       "      <th>2</th>\n",
       "      <td>3</td>\n",
       "      <td>Spherical polyharmonics and Poisson kernels fo...</td>\n",
       "      <td>We introduce develop notion spherical polyharm...</td>\n",
       "      <td>0</td>\n",
       "      <td>0</td>\n",
       "      <td>1</td>\n",
       "      <td>0</td>\n",
       "      <td>0</td>\n",
       "      <td>0</td>\n",
       "      <td>Maths</td>\n",
       "    </tr>\n",
       "    <tr>\n",
       "      <th>3</th>\n",
       "      <td>4</td>\n",
       "      <td>A finite element approximation for the stochas...</td>\n",
       "      <td>The stochastic Landau--Lifshitz--Gilbert (LLG)...</td>\n",
       "      <td>0</td>\n",
       "      <td>0</td>\n",
       "      <td>1</td>\n",
       "      <td>0</td>\n",
       "      <td>0</td>\n",
       "      <td>0</td>\n",
       "      <td>Maths</td>\n",
       "    </tr>\n",
       "    <tr>\n",
       "      <th>4</th>\n",
       "      <td>5</td>\n",
       "      <td>Comparative study of Discrete Wavelet Transfor...</td>\n",
       "      <td>Fourier-transform infra-red (FTIR) spectra sam...</td>\n",
       "      <td>1</td>\n",
       "      <td>0</td>\n",
       "      <td>0</td>\n",
       "      <td>1</td>\n",
       "      <td>0</td>\n",
       "      <td>0</td>\n",
       "      <td>Comp Sc</td>\n",
       "    </tr>\n",
       "  </tbody>\n",
       "</table>\n",
       "</div>"
      ],
      "text/plain": [
       "   ID                                              TITLE  \\\n",
       "0   1        Reconstructing Subject-Specific Effect Maps   \n",
       "1   2                 Rotation Invariance Neural Network   \n",
       "2   3  Spherical polyharmonics and Poisson kernels fo...   \n",
       "3   4  A finite element approximation for the stochas...   \n",
       "4   5  Comparative study of Discrete Wavelet Transfor...   \n",
       "\n",
       "                                            ABSTRACT  Computer Science  \\\n",
       "0  Predictive models allow subject-specific infer...                 1   \n",
       "1  Rotation invariance translation invariance gre...                 1   \n",
       "2  We introduce develop notion spherical polyharm...                 0   \n",
       "3  The stochastic Landau--Lifshitz--Gilbert (LLG)...                 0   \n",
       "4  Fourier-transform infra-red (FTIR) spectra sam...                 1   \n",
       "\n",
       "   Physics  Mathematics  Statistics  Quantitative Biology  \\\n",
       "0        0            0           0                     0   \n",
       "1        0            0           0                     0   \n",
       "2        0            1           0                     0   \n",
       "3        0            1           0                     0   \n",
       "4        0            0           1                     0   \n",
       "\n",
       "   Quantitative Finance count_topics  \n",
       "0                     0      Comp Sc  \n",
       "1                     0      Comp Sc  \n",
       "2                     0        Maths  \n",
       "3                     0        Maths  \n",
       "4                     0      Comp Sc  "
      ]
     },
     "execution_count": 185,
     "metadata": {},
     "output_type": "execute_result"
    }
   ],
   "source": [
    "df_new.head()"
   ]
  },
  {
   "cell_type": "markdown",
   "metadata": {},
   "source": [
    "with tfidf"
   ]
  },
  {
   "cell_type": "code",
   "execution_count": 187,
   "metadata": {},
   "outputs": [],
   "source": [
    "from sklearn.feature_extraction.text import TfidfVectorizer\n",
    "tf = TfidfVectorizer(max_df=0.95,\n",
    "    min_df=2,stop_words=\"english\")\n",
    "dtm = tf.fit_transform(df_new[\"ABSTRACT\"])"
   ]
  },
  {
   "cell_type": "code",
   "execution_count": 188,
   "metadata": {},
   "outputs": [],
   "source": [
    "from sklearn.decomposition import LatentDirichletAllocation\n",
    "lda = LatentDirichletAllocation(n_components=3, random_state = 42)\n",
    "ldadm = lda.fit(dtm)"
   ]
  },
  {
   "cell_type": "code",
   "execution_count": 189,
   "metadata": {},
   "outputs": [
    {
     "name": "stdout",
     "output_type": "stream",
     "text": [
      "words for topic 0\n",
      "['bounded', 'obtain', 'bound', 'graphs', 'known', 'omega', 'existence', 'solution', 'proof', 'time', 'operator', 'linear', 'new', 'general', 'class', 'polynomial', 'conditions', 'alpha', 'dimensional', 'field', 'set', 'algebra', 'given', 'number', 'mass', 'spaces', 'groups', 'theorem', 'order', 'problem', 'boundary', 'results', 'case', 'result', 'paper', 'type', 'non', 'function', 'study', 'solutions', 'theory', 'functions', 'group', 'finite', 'mathcal', 'equations', 'equation', 'space', 'prove', 'mathbb']\n",
      "\n",
      "\n",
      "words for topic 1\n",
      "['set', 'task', 'novel', 'features', 'machine', 'process', 'demonstrate', 'distribution', 'optimal', 'control', 'present', 'high', 'work', 'number', 'real', 'systems', 'large', 'optimization', 'use', 'problems', 'state', 'framework', 'different', 'training', 'deep', 'analysis', 'new', 'used', 'algorithms', 'propose', 'results', 'neural', 'information', 'performance', 'using', 'paper', 'proposed', 'problem', 'methods', 'time', 'approach', 'networks', 'models', 'algorithm', 'method', 'network', 'based', 'learning', 'model', 'data']\n",
      "\n",
      "\n",
      "words for topic 2\n",
      "['experimental', 'effects', 'material', 'theory', 'superconducting', '_2', 'observed', 'laser', 'atomic', 'transport', 'pressure', 'scattering', 'structure', 'particle', 'interactions', 'charge', 'frequency', 'calculations', 'systems', 'range', 'symmetry', 'low', 'band', 'model', 'topological', 'properties', 'thermal', 'electronic', 'lattice', 'high', 'dynamics', 'materials', 'interaction', 'effect', 'density', 'wave', 'coupling', 'optical', 'surface', 'state', 'electron', 'transition', 'states', 'field', 'energy', 'temperature', 'quantum', 'phase', 'magnetic', 'spin']\n",
      "\n",
      "\n"
     ]
    }
   ],
   "source": [
    "for i, words in enumerate(ldadm.components_):\n",
    "    print(f\"words for topic {i}\")\n",
    "    print([tf.get_feature_names()[word] for word in words.argsort()[-50:]])\n",
    "    print(\"\\n\")"
   ]
  },
  {
   "cell_type": "code",
   "execution_count": 191,
   "metadata": {},
   "outputs": [],
   "source": [
    "topics_tf = lda.transform(dtm)\n",
    "topics_tf = topics_tf.argmax(axis =1)\n",
    "df_new[\"topic_tf\"] = topics_tf\n",
    "df_new[\"topic_tf\"] = df_new[\"topic_tf\"].map(topics)"
   ]
  },
  {
   "cell_type": "code",
   "execution_count": 192,
   "metadata": {},
   "outputs": [
    {
     "data": {
      "text/html": [
       "<div>\n",
       "<style scoped>\n",
       "    .dataframe tbody tr th:only-of-type {\n",
       "        vertical-align: middle;\n",
       "    }\n",
       "\n",
       "    .dataframe tbody tr th {\n",
       "        vertical-align: top;\n",
       "    }\n",
       "\n",
       "    .dataframe thead th {\n",
       "        text-align: right;\n",
       "    }\n",
       "</style>\n",
       "<table border=\"1\" class=\"dataframe\">\n",
       "  <thead>\n",
       "    <tr style=\"text-align: right;\">\n",
       "      <th></th>\n",
       "      <th>ID</th>\n",
       "      <th>TITLE</th>\n",
       "      <th>ABSTRACT</th>\n",
       "      <th>Computer Science</th>\n",
       "      <th>Physics</th>\n",
       "      <th>Mathematics</th>\n",
       "      <th>Statistics</th>\n",
       "      <th>Quantitative Biology</th>\n",
       "      <th>Quantitative Finance</th>\n",
       "      <th>count_topics</th>\n",
       "      <th>topic_tf</th>\n",
       "    </tr>\n",
       "  </thead>\n",
       "  <tbody>\n",
       "    <tr>\n",
       "      <th>0</th>\n",
       "      <td>1</td>\n",
       "      <td>Reconstructing Subject-Specific Effect Maps</td>\n",
       "      <td>Predictive models allow subject-specific infer...</td>\n",
       "      <td>1</td>\n",
       "      <td>0</td>\n",
       "      <td>0</td>\n",
       "      <td>0</td>\n",
       "      <td>0</td>\n",
       "      <td>0</td>\n",
       "      <td>Comp Sc</td>\n",
       "      <td>Comp Sc</td>\n",
       "    </tr>\n",
       "    <tr>\n",
       "      <th>1</th>\n",
       "      <td>2</td>\n",
       "      <td>Rotation Invariance Neural Network</td>\n",
       "      <td>Rotation invariance translation invariance gre...</td>\n",
       "      <td>1</td>\n",
       "      <td>0</td>\n",
       "      <td>0</td>\n",
       "      <td>0</td>\n",
       "      <td>0</td>\n",
       "      <td>0</td>\n",
       "      <td>Comp Sc</td>\n",
       "      <td>Comp Sc</td>\n",
       "    </tr>\n",
       "    <tr>\n",
       "      <th>2</th>\n",
       "      <td>3</td>\n",
       "      <td>Spherical polyharmonics and Poisson kernels fo...</td>\n",
       "      <td>We introduce develop notion spherical polyharm...</td>\n",
       "      <td>0</td>\n",
       "      <td>0</td>\n",
       "      <td>1</td>\n",
       "      <td>0</td>\n",
       "      <td>0</td>\n",
       "      <td>0</td>\n",
       "      <td>Maths</td>\n",
       "      <td>Maths</td>\n",
       "    </tr>\n",
       "    <tr>\n",
       "      <th>3</th>\n",
       "      <td>4</td>\n",
       "      <td>A finite element approximation for the stochas...</td>\n",
       "      <td>The stochastic Landau--Lifshitz--Gilbert (LLG)...</td>\n",
       "      <td>0</td>\n",
       "      <td>0</td>\n",
       "      <td>1</td>\n",
       "      <td>0</td>\n",
       "      <td>0</td>\n",
       "      <td>0</td>\n",
       "      <td>Maths</td>\n",
       "      <td>Maths</td>\n",
       "    </tr>\n",
       "    <tr>\n",
       "      <th>4</th>\n",
       "      <td>5</td>\n",
       "      <td>Comparative study of Discrete Wavelet Transfor...</td>\n",
       "      <td>Fourier-transform infra-red (FTIR) spectra sam...</td>\n",
       "      <td>1</td>\n",
       "      <td>0</td>\n",
       "      <td>0</td>\n",
       "      <td>1</td>\n",
       "      <td>0</td>\n",
       "      <td>0</td>\n",
       "      <td>Comp Sc</td>\n",
       "      <td>Comp Sc</td>\n",
       "    </tr>\n",
       "  </tbody>\n",
       "</table>\n",
       "</div>"
      ],
      "text/plain": [
       "   ID                                              TITLE  \\\n",
       "0   1        Reconstructing Subject-Specific Effect Maps   \n",
       "1   2                 Rotation Invariance Neural Network   \n",
       "2   3  Spherical polyharmonics and Poisson kernels fo...   \n",
       "3   4  A finite element approximation for the stochas...   \n",
       "4   5  Comparative study of Discrete Wavelet Transfor...   \n",
       "\n",
       "                                            ABSTRACT  Computer Science  \\\n",
       "0  Predictive models allow subject-specific infer...                 1   \n",
       "1  Rotation invariance translation invariance gre...                 1   \n",
       "2  We introduce develop notion spherical polyharm...                 0   \n",
       "3  The stochastic Landau--Lifshitz--Gilbert (LLG)...                 0   \n",
       "4  Fourier-transform infra-red (FTIR) spectra sam...                 1   \n",
       "\n",
       "   Physics  Mathematics  Statistics  Quantitative Biology  \\\n",
       "0        0            0           0                     0   \n",
       "1        0            0           0                     0   \n",
       "2        0            1           0                     0   \n",
       "3        0            1           0                     0   \n",
       "4        0            0           1                     0   \n",
       "\n",
       "   Quantitative Finance count_topics topic_tf  \n",
       "0                     0      Comp Sc  Comp Sc  \n",
       "1                     0      Comp Sc  Comp Sc  \n",
       "2                     0        Maths    Maths  \n",
       "3                     0        Maths    Maths  \n",
       "4                     0      Comp Sc  Comp Sc  "
      ]
     },
     "execution_count": 192,
     "metadata": {},
     "output_type": "execute_result"
    }
   ],
   "source": [
    "df_new.head()"
   ]
  },
  {
   "cell_type": "code",
   "execution_count": 193,
   "metadata": {},
   "outputs": [],
   "source": [
    "realtopics = y.idxmax(axis = 1)"
   ]
  },
  {
   "cell_type": "code",
   "execution_count": 196,
   "metadata": {},
   "outputs": [
    {
     "name": "stdout",
     "output_type": "stream",
     "text": [
      "0.13622925805836353\n"
     ]
    }
   ],
   "source": [
    "print(accuracy_score(realtopics,df_new[\"topic_tf\"]))"
   ]
  },
  {
   "cell_type": "code",
   "execution_count": 197,
   "metadata": {},
   "outputs": [
    {
     "name": "stdout",
     "output_type": "stream",
     "text": [
      "0.15844936105283236\n"
     ]
    }
   ],
   "source": [
    "print(accuracy_score(realtopics,df_new[\"count_topics\"]))"
   ]
  },
  {
   "cell_type": "code",
   "execution_count": 199,
   "metadata": {},
   "outputs": [
    {
     "name": "stdout",
     "output_type": "stream",
     "text": [
      "0.8779324814037764\n"
     ]
    }
   ],
   "source": [
    "print(accuracy_score(df_new[\"topic_tf\"],df_new[\"count_topics\"]))"
   ]
  },
  {
   "cell_type": "code",
   "execution_count": 203,
   "metadata": {},
   "outputs": [
    {
     "data": {
      "image/png": "[encoded data removed]",
      "text/plain": [
       "<Figure size 1440x576 with 4 Axes>"
      ]
     },
     "metadata": {},
     "output_type": "display_data"
    }
   ],
   "source": [
    "import matplotlib.pyplot as plt\n",
    "import seaborn as sns\n",
    "from matplotlib import style\n",
    "style.use(\"fivethirtyeight\")\n",
    "\n",
    "\n",
    "fig, axes = plt.subplots(nrows=1, ncols=2, figsize=(20,8))\n",
    "\n",
    "sns.heatmap(pd.crosstab(df_new[\"count_topics\"], realtopics), annot=True, fmt=\"d\", annot_kws={\"fontsize\":15}, cmap=\"Blues\", vmin=0, ax=axes[0])\n",
    "axes[0].set_xlabel(\"Real Topic\")\n",
    "axes[0].set_title(\"\\nBoW + LDA\\n\", fontsize=25)\n",
    "\n",
    "sns.heatmap(pd.crosstab(df_new[\"topic_tf\"], realtopics), annot=True, fmt=\"d\", annot_kws={\"fontsize\":15}, cmap=\"Blues\", vmin=0, ax=axes[1])\n",
    "axes[1].set_xlabel(\"Real Topic\")\n",
    "axes[1].set_title(\"\\nTF-IDF + LDA\\n\", fontsize=25)\n",
    "\n",
    "plt.show()"
   ]
  },
  {
   "cell_type": "code",
   "execution_count": null,
   "metadata": {},
   "outputs": [],
   "source": []
  }
 ],
 "metadata": {
  "kernelspec": {
   "display_name": "Python 3",
   "language": "python",
   "name": "python3"
  },
  "language_info": {
   "codemirror_mode": {
    "name": "ipython",
    "version": 3
   },
   "file_extension": ".py",
   "mimetype": "text/x-python",
   "name": "python",
   "nbconvert_exporter": "python",
   "pygments_lexer": "ipython3",
   "version": "3.7.3"
  }
 },
 "nbformat": 4,
 "nbformat_minor": 2
}
